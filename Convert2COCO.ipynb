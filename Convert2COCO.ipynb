{
 "cells": [
  {
   "cell_type": "code",
   "execution_count": null,
   "id": "4c693041",
   "metadata": {},
   "outputs": [],
   "source": [
    "#작성자 : teadone\n",
    "#작성일 : 20220308\n",
    "#AOT Groundtruth.csv를 입력받아, COCO 데이터셋의 형태를 지닌 Groundtruth.json을 생성하는 코드\n",
    "#Code that receives AOT Ground Truth.csv and generates Ground Truth.json in the form of COCO dataset\n",
    "\n",
    "#Goundtruth.csv를 입력받아, id컬럼(탐지 객체 클래스)의 숫자를 제거 (ex Airborne11 -> Airborne)\n",
    "#이후 탐지 클래스를 정리 후, COCO 데이터셋의 형태로 가공",
     "#Take Goundtruth.csv as input and remove the number of id column (detection object class) (ex Airborne11 -> Airborne)\n",
    "#After cleaning up the detection class, it is processed in the form of COCO dataset."
   ]
  },
  {
   "cell_type": "code",
   "execution_count": 1,
   "id": "26f0f1a4",
   "metadata": {},
   "outputs": [
    {
     "name": "stdout",
     "output_type": "stream",
     "text": [
      "Airborne\n",
      "Airplane\n",
      "Bird\n",
      "Drone\n",
      "Flock\n",
      "Helicopter\n",
      "None\n"
     ]
    }
   ],
   "source": [
    "import numpy as np\n",
    "import json\n",
    "import pandas as pd\n",
    "import re\n",
    "\n",
    "path = 'part2/ImageSets/groundtruth.csv'#input ground truth file path\n",
    "save_json_path = 'part2/ImageSets/groundtruth_coco.json' # input ground truth fil path you want output it\n",
    "\n",
    "data = pd.read_csv(path)\n",
    "\n",
    "data['id'] = data['id'].fillna('None') # replace from Nan value to 'None' string\n",
    "data['id'] = data['id'].str.replace(pat='[0-9]', repl=r'', regex=True) # remove number use regex pattern\n",
    "\n",
    "\n",
    "images = []\n",
    "categories = []\n",
    "annotations = []\n",
    "\n",
    "category = {}\n",
    "category[\"supercategory\"] = 'none'\n",
    "category[\"id\"] = 0\n",
    "category[\"name\"] = 'None'\n",
    "categories.append(category)\n",
    "\n",
    "data['fileid'] = data['img_name'].astype('category').cat.codes\n",
    "data['categoryid']= pd.Categorical(data['id'],ordered= True).codes\n",
    "data['categoryid'] = data['categoryid']+1\n",
    "data['annid'] = data.index\n",
    "\n",
    "def image(row):\n",
    "    image = {}\n",
    "    image[\"height\"] = row.size_height\n",
    "    image[\"width\"] = row.size_width\n",
    "    image[\"id\"] = row.fileid\n",
    "    image[\"file_name\"] = row.img_name\n",
    "    return image\n",
    "\n",
    "def category(row):\n",
    "    category = {}\n",
    "    category[\"supercategory\"] = 'None'\n",
    "    category[\"id\"] = row.categoryid\n",
    "    print(row[6])\n",
    "    category[\"name\"] = row[6]\n",
    "    return category\n",
    "\n",
    "def annotation(row):\n",
    "    annotation = {}\n",
    "    area = (row.gt_right -row.gt_left)*(row.gt_bottom - row.gt_top)\n",
    "    annotation[\"segmentation\"] = []\n",
    "    annotation[\"iscrowd\"] = 0\n",
    "    annotation[\"area\"] = area\n",
    "    annotation[\"image_id\"] = row.fileid\n",
    "\n",
    "    annotation[\"bbox\"] = [row.gt_left, row.gt_top, row.gt_right -row.gt_left,row.gt_bottom-row.gt_top ]\n",
    "\n",
    "    annotation[\"category_id\"] = row.categoryid\n",
    "    annotation[\"id\"] = row.annid\n",
    "    return annotation\n",
    "\n",
    "for row in data.itertuples():\n",
    "    annotations.append(annotation(row))\n",
    "\n",
    "imagedf = data.drop_duplicates(subset=['fileid']).sort_values(by='fileid')\n",
    "for row in imagedf.itertuples():\n",
    "    images.append(image(row))\n",
    "\n",
    "catdf = data.drop_duplicates(subset=['categoryid']).sort_values(by='categoryid')\n",
    "for row in catdf.itertuples():\n",
    "    categories.append(category(row))\n",
    "\n",
    "data_coco = {}\n",
    "data_coco[\"images\"] = images\n",
    "data_coco[\"categories\"] = categories\n",
    "data_coco[\"annotations\"] = annotations\n",
    "json.dump(data_coco, open(save_json_path, \"w\"), indent=4)"
   ]
  },
  {
   "cell_type": "code",
   "execution_count": null,
   "id": "16f957b6",
   "metadata": {},
   "outputs": [],
   "source": []
  }
 ],
 "metadata": {
  "kernelspec": {
   "display_name": "Python 3 (ipykernel)",
   "language": "python",
   "name": "python3"
  },
  "language_info": {
   "codemirror_mode": {
    "name": "ipython",
    "version": 3
   },
   "file_extension": ".py",
   "mimetype": "text/x-python",
   "name": "python",
   "nbconvert_exporter": "python",
   "pygments_lexer": "ipython3",
   "version": "3.9.7"
  }
 },
 "nbformat": 4,
 "nbformat_minor": 5
}
